{
 "cells": [
  {
   "cell_type": "markdown",
   "metadata": {},
   "source": [
    "# Train Chow-Liu Tree"
   ]
  },
  {
   "cell_type": "code",
   "execution_count": 6,
   "metadata": {},
   "outputs": [],
   "source": [
    "import numpy as np\n",
    "import copy\n",
    "import pickle\n",
    "import sys\n",
    "\n",
    "\n",
    "class chow_liu:\n",
    "    def pm(self, dataset, m, n):\n",
    "        pxy = np.zeros((n, n, 4))\n",
    "        for i in range(n):\n",
    "            temp_dataset = dataset[dataset[:, i] == 0]\n",
    "            for j in range(n):\n",
    "                if pxy[i, j, 0] == 0:\n",
    "                    pxy[i, j, 0] = (temp_dataset[temp_dataset[:, j] == 0].shape[0]+1)/(m+4)\n",
    "                if pxy[j, i, 0] == 0:\n",
    "                    pxy[j, i, 0] = pxy[i, j, 0]\n",
    "                if pxy[i, j, 1] == 0:\n",
    "                    pxy[i, j, 1] = (temp_dataset[temp_dataset[:, j] == 1].shape[0]+1)/(m+4)\n",
    "                if pxy[j, i, 2] == 0:\n",
    "                    pxy[j, i, 2] = pxy[i, j, 1]\n",
    "\n",
    "            temp_dataset = dataset[dataset[:, i] == 1]\n",
    "            for j in range(n):\n",
    "                if pxy[i, j, 2] == 0:\n",
    "                    pxy[i, j, 2] = (temp_dataset[temp_dataset[:, j] == 0].shape[0]+1)/(m+4)\n",
    "                if pxy[j, i, 1] == 0:\n",
    "                    pxy[j, i, 1] = pxy[i, j, 2]\n",
    "                if pxy[i, j, 3] == 0:\n",
    "                    pxy[i, j, 3] = (temp_dataset[temp_dataset[:, j] == 1].shape[0]+1)/(m+4)\n",
    "                if pxy[j, i, 3] == 0:\n",
    "                    pxy[j, i, 3] = pxy[i, j, 3]\n",
    "        return pxy\n",
    "\n",
    "\n",
    "    def mi(self, pxy, n):\n",
    "        ixy = np.zeros((n, n))\n",
    "        for i in range(n):\n",
    "            for j in range(n):\n",
    "                if i < j:\n",
    "                    ixy[i, j] = pxy[i, j, 0]*np.log(pxy[i, j, 0]/(pxy[i, i, 0]*pxy[j, j, 0])) + pxy[i, j, 1]*np.log(pxy[i, j, 1]/(pxy[i, i, 0]*pxy[j, j, 3])) + \\\n",
    "                        pxy[i, j, 2]*np.log(pxy[i, j, 2]/(pxy[i, i, 3]*pxy[j, j, 0])) + \\\n",
    "                        pxy[i, j, 3]*np.log(pxy[i, j, 3]/(pxy[i, i, 3]*pxy[j, j, 3]))\n",
    "        return ixy\n",
    "\n",
    "\n",
    "    def cm(self, dataset, tr, cols):\n",
    "        cxy = np.zeros((len(tr), cols))\n",
    "        for idx, node in enumerate(tr):\n",
    "            i, j = node\n",
    "            cxy[idx] = [dataset[(dataset[:, i] == 0) & (dataset[:, j] == 0)].shape[0], dataset[(dataset[:, i] == 0) & (dataset[:, j] == 1)].shape[0], dataset[(\n",
    "                dataset[:, i] == 1) & (dataset[:, j] == 0)].shape[0], dataset[(dataset[:, i] == 1) & (dataset[:, j] == 1)].shape[0]]\n",
    "        return cxy\n",
    "\n",
    "\n",
    "    def mtr(self, ls, ntr, root):\n",
    "        for node in [item for item in ls if root in item]:\n",
    "            if node[0] == root:\n",
    "                ntr.append(node)\n",
    "                ls.remove(node)\n",
    "                self.mtr(ls, ntr, node[1])\n",
    "            else:\n",
    "                ntr.append((node[1], node[0]))\n",
    "                ls.remove(node)\n",
    "                self.mtr(ls, ntr, node[0])\n",
    "\n",
    "    def dt(self, ewts, prnt=False):\n",
    "        ewts_cp = copy.deepcopy(ewts)\n",
    "        edges = [np.unravel_index(np.argmax(ewts_cp), ewts_cp.shape)]\n",
    "        visited = [[edges[-1][0], edges[-1][1]]]\n",
    "        ewts_cp[edges[-1]] = 0\n",
    "        while(len(edges) < ewts.shape[0]-1):\n",
    "            i = j = -1\n",
    "            edge = np.unravel_index(np.argmax(ewts_cp), ewts_cp.shape)\n",
    "            for bag in range(len(visited)):\n",
    "                if edge[0] in visited[bag]:\n",
    "                    i = bag\n",
    "                if edge[1] in visited[bag]:\n",
    "                    j = bag\n",
    "            if i == -1 and j != -1:\n",
    "                edges.append(edge)\n",
    "                visited[j].append(edge[0])\n",
    "            elif i != -1 and j == -1:\n",
    "                edges.append(edge)\n",
    "                visited[i].append(edge[1])\n",
    "            elif i == -1 and j == -1:\n",
    "                edges.append(edge)\n",
    "                visited.append([edge[0], edge[1]])\n",
    "            elif i != -1 and j != -1 and i != j:\n",
    "                edges.append(edge)\n",
    "                visited[i] += visited[j]\n",
    "                visited.remove(visited[j])\n",
    "            elif i == j != -1:\n",
    "                pass\n",
    "            else:\n",
    "                print(\"Discarded in else\", edge)\n",
    "            ewts_cp[edge] = 0\n",
    "\n",
    "        ntr = []\n",
    "        self.mtr(edges, ntr, edges[0][0])\n",
    "\n",
    "        return ntr\n",
    "\n",
    "    def train(self, dataset, m, n):\n",
    "        pxy = chow_liu.pm(dataset, m, n)\n",
    "        ixy = chow_liu.mi(pxy, n)\n",
    "        tr = chow_liu.dt(ixy, False)\n",
    "        tr = [(tr[0][0], tr[0][0])] + tr\n",
    "        cp = np.zeros((len(tr), pxy.shape[2]))\n",
    "        for idx, node in enumerate(tr):\n",
    "            if node[0] == node[1]:\n",
    "                cp[idx] = np.log(pxy[node[0], node[1], :])\n",
    "            else:\n",
    "                cp[idx] = np.log(np.hstack(((pxy[node[0], node[1], :2]/pxy[node[0],node[0], 0]), (pxy[node[0], node[1], 2:]/pxy[node[0], node[0], 3]))))\n",
    "\n",
    "        return tr, pxy, cp\n",
    "\n",
    "    def generate_model(self, dataset, m, n):\n",
    "        model = chow_liu.train(dataset, m ,n)\n",
    "        f = open('modelclt_book.pkl', 'wb')\n",
    "        pickle.dump(model, f, -1)\n",
    "        f.close()    \n",
    "    \n",
    "def dataset_load(file, file_2=None):\n",
    "    dataset_1 = np.loadtxt(file, delimiter=\",\", dtype=int)\n",
    "    if file_2:\n",
    "        dataset_2 = np.loadtxt(file, delimiter=\",\", dtype=int)\n",
    "        dataset = np.vstack((dataset_1, dataset_2))\n",
    "    else:\n",
    "        dataset = dataset_1\n",
    "    return dataset, dataset.shape[0], dataset.shape[1]\n",
    "\n",
    "chow_liu = chow_liu()\n",
    "dataset, m, n = dataset_load(\"book.ts.data\")\n",
    "chow_liu.generate_model(dataset,m,n)"
   ]
  },
  {
   "cell_type": "markdown",
   "metadata": {},
   "source": [
    "# Testing File"
   ]
  },
  {
   "cell_type": "code",
   "execution_count": 2,
   "metadata": {},
   "outputs": [
    {
     "name": "stdout",
     "output_type": "stream",
     "text": [
      "ALL: -6.716787490224922\n"
     ]
    }
   ],
   "source": [
    "test = np.loadtxt(\"nltcs.valid.data\", delimiter=\",\", dtype=int)\n",
    "f = open('modelclt_nltcs.pkl', 'rb')\n",
    "tr, pxy, cp = pickle.load(f)     \n",
    "f.close()  \n",
    "cxy = chow_liu.cm(test, tr, pxy.shape[2])\n",
    "print(\"ALL:\", np.sum(cxy*cp)/test.shape[0])"
   ]
  },
  {
   "cell_type": "code",
   "execution_count": 4,
   "metadata": {},
   "outputs": [
    {
     "name": "stdout",
     "output_type": "stream",
     "text": [
      "ALL: -16.509888925591692\n"
     ]
    }
   ],
   "source": [
    "test = np.loadtxt(\"plants.valid.data\", delimiter=\",\", dtype=int)\n",
    "f = open('modelclt_plants.pkl', 'rb')\n",
    "tr, pxy, cp = pickle.load(f)     \n",
    "f.close()  \n",
    "cxy = chow_liu.cm(test, tr, pxy.shape[2])\n",
    "print(\"ALL:\", np.sum(cxy*cp)/test.shape[0])"
   ]
  },
  {
   "cell_type": "code",
   "execution_count": 7,
   "metadata": {},
   "outputs": [
    {
     "name": "stdout",
     "output_type": "stream",
     "text": [
      "ALL: -36.634123975145\n"
     ]
    }
   ],
   "source": [
    "test = np.loadtxt(\"book.valid.data\", delimiter=\",\", dtype=int)\n",
    "f = open('modelclt_book.pkl', 'rb')\n",
    "tr, pxy, cp = pickle.load(f)     \n",
    "f.close()  \n",
    "cxy = chow_liu.cm(test, tr, pxy.shape[2])\n",
    "print(\"ALL:\", np.sum(cxy*cp)/test.shape[0])"
   ]
  }
 ],
 "metadata": {
  "kernelspec": {
   "display_name": "Python 3",
   "language": "python",
   "name": "python3"
  },
  "language_info": {
   "codemirror_mode": {
    "name": "ipython",
    "version": 3
   },
   "file_extension": ".py",
   "mimetype": "text/x-python",
   "name": "python",
   "nbconvert_exporter": "python",
   "pygments_lexer": "ipython3",
   "version": "3.8.3"
  }
 },
 "nbformat": 4,
 "nbformat_minor": 4
}
