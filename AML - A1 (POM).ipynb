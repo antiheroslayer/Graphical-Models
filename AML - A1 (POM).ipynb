{
 "cells": [
  {
   "cell_type": "markdown",
   "metadata": {},
   "source": [
    "# Training Product of Marginal"
   ]
  },
  {
   "cell_type": "code",
   "execution_count": 12,
   "metadata": {},
   "outputs": [],
   "source": [
    "import numpy as np\n",
    "import pickle\n",
    "\n",
    "class pm():\n",
    "    def pmarginal(self, train):\n",
    "    #     train = np.concatenate((train1, valid), axis = 0)\n",
    "\n",
    "        #calculating occurances/not occurances with added bias\n",
    "        p1 = train.sum(axis=0) + 1\n",
    "        p0 = train.shape[0] - p1 + 1\n",
    "        #calculate log variation\n",
    "        lp1 = np.log(np.true_divide(p1, train.shape[0] + 2))\n",
    "        lp0 =  np.log(np.true_divide(p0, train.shape[0] + 2))\n",
    "        #happend * log variation of p1, masking, likelihood\n",
    "        return lp1, lp0\n",
    "    \n",
    "    def generate_model(self, dataset):\n",
    "        model = pm.pmarginal(dataset)\n",
    "        f = open('modelpom_book.pkl', 'wb')\n",
    "        pickle.dump(model, f, -1)\n",
    "        f.close()  \n",
    "        \n",
    "def dataset_load(file, file_2=None):\n",
    "    dataset_1 = np.loadtxt(file, delimiter=\",\", dtype=int)\n",
    "    if file_2:\n",
    "        dataset_2 = np.loadtxt(file, delimiter=\",\", dtype=int)\n",
    "        dataset = np.vstack((dataset_1, dataset_2))\n",
    "    else:\n",
    "        dataset = dataset_1\n",
    "    return dataset   \n",
    "\n",
    "pm = pm()\n",
    "dataset = dataset_load(\"book.ts.data\")\n",
    "pm.generate_model(dataset)"
   ]
  },
  {
   "cell_type": "markdown",
   "metadata": {},
   "source": [
    "# Testing"
   ]
  },
  {
   "cell_type": "code",
   "execution_count": 15,
   "metadata": {},
   "outputs": [
    {
     "name": "stdout",
     "output_type": "stream",
     "text": [
      "avgLL: -9.367691915183633\n"
     ]
    }
   ],
   "source": [
    "test = np.loadtxt(\"nltcs.valid.data\", delimiter=\",\", dtype=int)\n",
    "f = open('modelpom_nltcs.pkl', 'rb')\n",
    "lp1, lp0 = pickle.load(f)     \n",
    "f.close()\n",
    "t1 = (test * lp1).astype(float)\n",
    "t2 = np.ma.array(t1, mask=t1 != 0)\n",
    "t3 = t2 + lp0\n",
    "t4 = t3.data.sum(axis=1)\n",
    "all_pmarginal = t4.mean()\n",
    "print('avgLL:', all_pmarginal)"
   ]
  },
  {
   "cell_type": "code",
   "execution_count": 16,
   "metadata": {},
   "outputs": [
    {
     "name": "stdout",
     "output_type": "stream",
     "text": [
      "avgLL: -31.342695734461024\n"
     ]
    }
   ],
   "source": [
    "test = np.loadtxt(\"plants.valid.data\", delimiter=\",\", dtype=int)\n",
    "f = open('modelpom_plants.pkl', 'rb')\n",
    "lp1, lp0 = pickle.load(f)     \n",
    "f.close()\n",
    "t1 = (test * lp1).astype(float)\n",
    "t2 = np.ma.array(t1, mask=t1 != 0)\n",
    "t3 = t2 + lp0\n",
    "t4 = t3.data.sum(axis=1)\n",
    "all_pmarginal = t4.mean()\n",
    "print('avgLL:', all_pmarginal)"
   ]
  },
  {
   "cell_type": "code",
   "execution_count": 17,
   "metadata": {},
   "outputs": [
    {
     "name": "stdout",
     "output_type": "stream",
     "text": [
      "avgLL: -39.80567179978733\n"
     ]
    }
   ],
   "source": [
    "test = np.loadtxt(\"book.valid.data\", delimiter=\",\", dtype=int)\n",
    "f = open('modelpom_book.pkl', 'rb')\n",
    "lp1, lp0 = pickle.load(f)     \n",
    "f.close()\n",
    "t1 = (test * lp1).astype(float)\n",
    "t2 = np.ma.array(t1, mask=t1 != 0)\n",
    "t3 = t2 + lp0\n",
    "t4 = t3.data.sum(axis=1)\n",
    "all_pmarginal = t4.mean()\n",
    "print('avgLL:', all_pmarginal)"
   ]
  },
  {
   "cell_type": "code",
   "execution_count": null,
   "metadata": {},
   "outputs": [],
   "source": []
  }
 ],
 "metadata": {
  "kernelspec": {
   "display_name": "Python 3",
   "language": "python",
   "name": "python3"
  },
  "language_info": {
   "codemirror_mode": {
    "name": "ipython",
    "version": 3
   },
   "file_extension": ".py",
   "mimetype": "text/x-python",
   "name": "python",
   "nbconvert_exporter": "python",
   "pygments_lexer": "ipython3",
   "version": "3.8.3"
  }
 },
 "nbformat": 4,
 "nbformat_minor": 4
}
